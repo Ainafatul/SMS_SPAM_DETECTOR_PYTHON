{
 "cells": [
  {
   "cell_type": "code",
   "execution_count": 36,
   "metadata": {
    "collapsed": true
   },
   "outputs": [],
   "source": [
    "import numpy as np\n",
    "\n",
    "\n",
    "def sigmoid(x):\n",
    "    return 1 / (1 + np.exp(-x))"
   ]
  },
  {
   "cell_type": "code",
   "execution_count": 37,
   "outputs": [
    {
     "name": "stdout",
     "output_type": "stream",
     "text": [
      "(2, 3)\n"
     ]
    }
   ],
   "source": [
    "x = np.array([[1, 2, 3], [2, 3, 4]])\n",
    "\n",
    "print(x.shape)"
   ],
   "metadata": {
    "collapsed": false,
    "pycharm": {
     "name": "#%%\n"
    }
   }
  },
  {
   "cell_type": "code",
   "execution_count": 38,
   "outputs": [],
   "source": [
    "Wa = np.array([[1], [2], [1]])\n",
    "Wi = np.array([[2], [1], [1]])\n",
    "Wf = np.array([[2], [2], [2]])\n",
    "Wo = np.array([[2], [1], [2]])\n",
    "\n",
    "Ua = np.array([[1]])\n",
    "Ui = np.array([[2]])\n",
    "Uf = np.array([[2]])\n",
    "Uo = np.array([[2]])\n",
    "\n",
    "Ba = np.array([[1]])\n",
    "Bi = np.array([[0]])\n",
    "Bf = np.array([[1]])\n",
    "Bo = np.array([[2]])\n"
   ],
   "metadata": {
    "collapsed": false,
    "pycharm": {
     "name": "#%%\n"
    }
   }
  },
  {
   "cell_type": "code",
   "execution_count": 50,
   "outputs": [
    {
     "name": "stdout",
     "output_type": "stream",
     "text": [
      "[[0.99999997]\n",
      " [1.        ]]\n",
      "[[0.99908895]\n",
      " [0.9999833 ]]\n",
      "[[0.99999774]\n",
      " [0.99999999]]\n",
      "[[0.99999386]\n",
      " [0.99999996]]\n",
      "[[0.99908892]\n",
      " [0.9999833 ]]\n",
      "[[0.99999997]\n",
      " [1.        ]]\n",
      "[[0.99908895]\n",
      " [0.9999833 ]]\n",
      "[[0.99999774]\n",
      " [0.99999999]]\n",
      "[[0.99999386]\n",
      " [0.99999996]]\n",
      "[[0.99908892]\n",
      " [0.9999833 ]]\n"
     ]
    }
   ],
   "source": [
    "output_prev = np.array([[0], [0]])\n",
    "c_prev = np.array([[0], [0]])\n",
    "\n",
    "a = np.empty((2,))\n",
    "\n",
    "for t in range(2):\n",
    "    a = np.tanh((x @ Wa) + (output_prev @ Ua) + Ba)\n",
    "    i = sigmoid((x @ Wi) + (output_prev @ Ua) + Bi)\n",
    "    f = sigmoid((x @ Wf) + (output_prev @ Ua) + Bf)\n",
    "    o = sigmoid((x @ Wo) + (output_prev @ Ua) + Bo)\n",
    "    state = a * i + f * output_prev\n",
    "\n"
   ],
   "metadata": {
    "collapsed": false,
    "pycharm": {
     "name": "#%%\n"
    }
   }
  },
  {
   "cell_type": "code",
   "execution_count": null,
   "outputs": [],
   "source": [],
   "metadata": {
    "collapsed": false,
    "pycharm": {
     "name": "#%%\n"
    }
   }
  }
 ],
 "metadata": {
  "kernelspec": {
   "name": "pycharm-752fdfdd",
   "language": "python",
   "display_name": "PyCharm (sms_spam_detector_python)"
  },
  "language_info": {
   "codemirror_mode": {
    "name": "ipython",
    "version": 2
   },
   "file_extension": ".py",
   "mimetype": "text/x-python",
   "name": "python",
   "nbconvert_exporter": "python",
   "pygments_lexer": "ipython2",
   "version": "2.7.6"
  }
 },
 "nbformat": 4,
 "nbformat_minor": 0
}